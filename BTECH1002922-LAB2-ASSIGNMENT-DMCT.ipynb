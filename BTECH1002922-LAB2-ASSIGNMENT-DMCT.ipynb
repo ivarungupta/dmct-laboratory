{
 "cells": [
  {
   "cell_type": "markdown",
   "id": "0308956a",
   "metadata": {},
   "source": [
    "# BTECH/10029/22 [LAB-2 ASSIGNMENT] [22-08-2024]"
   ]
  },
  {
   "cell_type": "markdown",
   "id": "c19fb7d4",
   "metadata": {},
   "source": [
    "### QUESTION 1"
   ]
  },
  {
   "cell_type": "code",
   "execution_count": 3,
   "id": "339825ec",
   "metadata": {},
   "outputs": [
    {
     "name": "stdout",
     "output_type": "stream",
     "text": [
      "Mean: 49.4\n",
      "Mode: 16\n",
      "Median: 50.5\n",
      "Standard Deviation: 30.081888238606297\n",
      "Variance: 904.9199999999998\n",
      "Q1: 21.75\n",
      "Q3: 77.75\n",
      "IQR: 56.0\n",
      "10th Percentile: 9.0\n",
      "90th Percentile: 90.10000000000001\n"
     ]
    }
   ],
   "source": [
    "import random\n",
    "import numpy as np\n",
    "from scipy import stats\n",
    "\n",
    "def calculate_statistics(data):\n",
    "    data_np = np.array(data)\n",
    " \n",
    "    mean = np.mean(data_np)\n",
    "\n",
    "    mode_result = stats.mode(data_np)\n",
    "    mode = mode_result.mode[0]  \n",
    "\n",
    "    median = np.median(data_np)\n",
    "\n",
    "    std_dev = np.std(data_np, ddof=0)\n",
    "\n",
    "    variance = np.var(data_np, ddof=0)\n",
    "   \n",
    "    Q1 = np.percentile(data_np, 25)\n",
    "    Q3 = np.percentile(data_np, 75)\n",
    "\n",
    "    IQR = Q3 - Q1\n",
    "    \n",
    "    percentile_10 = np.percentile(data_np, 10)\n",
    "    percentile_90 = np.percentile(data_np, 90)\n",
    "    \n",
    "    return {\n",
    "        'Mean': mean,\n",
    "        'Mode': mode,\n",
    "        'Median': median,\n",
    "        'Standard Deviation': std_dev,\n",
    "        'Variance': variance,\n",
    "        'Q1': Q1,\n",
    "        'Q3': Q3,\n",
    "        'IQR': IQR,\n",
    "        '10th Percentile': percentile_10,\n",
    "        '90th Percentile': percentile_90\n",
    "    }\n",
    "\n",
    "random_numbers = [random.randint(0, 100) for _ in range(100)]\n",
    "\n",
    "statistics = calculate_statistics(random_numbers)\n",
    "for key, value in statistics.items():\n",
    "    print(f\"{key}: {value}\")\n"
   ]
  },
  {
   "cell_type": "markdown",
   "id": "b70afc7b",
   "metadata": {},
   "source": [
    "### QUESTION 2"
   ]
  },
  {
   "cell_type": "code",
   "execution_count": 7,
   "id": "2ff9edc9",
   "metadata": {},
   "outputs": [],
   "source": [
    "import pandas as pd\n",
    "df = pd.read_csv('C:\\\\Users\\\\BIT\\\\Downloads\\\\IPL.csv')"
   ]
  },
  {
   "cell_type": "markdown",
   "id": "24ef5858",
   "metadata": {},
   "source": [
    "A)"
   ]
  },
  {
   "cell_type": "code",
   "execution_count": 8,
   "id": "2c5f147c",
   "metadata": {},
   "outputs": [
    {
     "name": "stdout",
     "output_type": "stream",
     "text": [
      "Row Indices: [0, 1, 2, 3, 4, 5, 6, 7, 8, 9, 10, 11, 12, 13, 14, 15, 16, 17, 18, 19, 20, 21, 22, 23, 24, 25, 26, 27, 28, 29, 30, 31, 32, 33, 34, 35, 36, 37, 38, 39, 40, 41, 42, 43, 44, 45, 46, 47, 48, 49, 50, 51, 52, 53, 54, 55, 56, 57, 58, 59, 60, 61, 62, 63, 64, 65, 66, 67, 68, 69, 70, 71, 72, 73, 74, 75, 76, 77, 78, 79, 80, 81, 82, 83, 84, 85, 86, 87, 88, 89, 90, 91, 92, 93, 94, 95, 96, 97, 98, 99, 100, 101, 102, 103, 104, 105, 106, 107, 108, 109, 110, 111, 112, 113, 114, 115, 116, 117, 118, 119, 120, 121, 122, 123, 124, 125, 126, 127, 128, 129]\n",
      "Column Names: ['Sl.NO.', 'PLAYER NAME', 'AGE', 'COUNTRY', 'TEAM', 'PLAYING ROLE', 'T-RUNS', 'T-WKTS', 'ODI-RUNS-S', 'ODI-SR-B', 'ODI-WKTS', 'ODI-SR-BL', 'CAPTAINCY EXP', 'RUNS-S', 'HS', 'AVE', 'SR-B', 'SIXERS', 'RUNS-C', 'WKTS', 'AVE-BL', 'ECON', 'SR-BL', 'AUCTION YEAR', 'BASE PRICE', 'SOLD PRICE']\n"
     ]
    }
   ],
   "source": [
    "row_indices = df.index.tolist()\n",
    "column_names = df.columns.tolist()\n",
    "\n",
    "print(\"Row Indices:\", row_indices)\n",
    "print(\"Column Names:\", column_names)"
   ]
  },
  {
   "cell_type": "markdown",
   "id": "4008bfd8",
   "metadata": {},
   "source": [
    "B)"
   ]
  },
  {
   "cell_type": "code",
   "execution_count": 21,
   "id": "7af9ef94",
   "metadata": {},
   "outputs": [
    {
     "name": "stdout",
     "output_type": "stream",
     "text": [
      "\n",
      "Transposed DataFrame:\n",
      "                       0             1            2          3    \\\n",
      "Sl.NO.                   1             2            3          4   \n",
      "PLAYER NAME    Abdulla, YA  Abdur Razzak  Agarkar, AB  Ashwin, R   \n",
      "AGE                      2             2            2          1   \n",
      "COUNTRY                 SA           BAN          IND        IND   \n",
      "TEAM                  KXIP           RCB          KKR        CSK   \n",
      "PLAYING ROLE    Allrounder        Bowler       Bowler     Bowler   \n",
      "T-RUNS                   0           214          571        284   \n",
      "T-WKTS                   0            18           58         31   \n",
      "ODI-RUNS-S               0           657         1269        241   \n",
      "ODI-SR-B               0.0         71.41        80.62      84.56   \n",
      "ODI-WKTS                 0           185          288         51   \n",
      "ODI-SR-BL              0.0          37.6         32.9       36.8   \n",
      "CAPTAINCY EXP            0             0            0          0   \n",
      "RUNS-S                   0             0          167         58   \n",
      "HS                       0             0           39         11   \n",
      "AVE                    0.0           0.0        18.56        5.8   \n",
      "SR-B                   0.0           0.0       121.01      76.32   \n",
      "SIXERS                   0             0            5          0   \n",
      "RUNS-C                 307            29         1059       1125   \n",
      "WKTS                    15             0           29         49   \n",
      "AVE-BL               20.47           0.0        36.52      22.96   \n",
      "ECON                   8.9          14.5         8.81       6.23   \n",
      "SR-BL                13.93           0.0         24.9      22.14   \n",
      "AUCTION YEAR          2009          2008         2008       2011   \n",
      "BASE PRICE           50000         50000       200000     100000   \n",
      "SOLD PRICE           50000         50000       350000     850000   \n",
      "\n",
      "                        4           5          6              7           8    \\\n",
      "Sl.NO.                    5           6          7              8           9   \n",
      "PLAYER NAME    Badrinath, S  Bailey, GJ  Balaji, L  Bollinger, DE    Botha, J   \n",
      "AGE                       2           2          2              2           2   \n",
      "COUNTRY                 IND         AUS        IND            AUS          SA   \n",
      "TEAM                    CSK         CSK       CSK+            CSK          RR   \n",
      "PLAYING ROLE        Batsman     Batsman     Bowler         Bowler  Allrounder   \n",
      "T-RUNS                   63           0         51             54          83   \n",
      "T-WKTS                    0           0         27             50          17   \n",
      "ODI-RUNS-S               79         172        120             50         609   \n",
      "ODI-SR-B              45.93       72.26      78.94          92.59       85.77   \n",
      "ODI-WKTS                  0           0         34             62          72   \n",
      "ODI-SR-BL               0.0         0.0       42.5           31.3        53.0   \n",
      "CAPTAINCY EXP             0           1          0              0           1   \n",
      "RUNS-S                 1317          63         26             21         335   \n",
      "HS                       71          48         15             16          67   \n",
      "AVE                   32.93        21.0       4.33           21.0       30.45   \n",
      "SR-B                 120.71       95.45      72.22         165.88      114.73   \n",
      "SIXERS                   28           0          1              1           3   \n",
      "RUNS-C                    0           0       1342            693         610   \n",
      "WKTS                      0           0         52             37          19   \n",
      "AVE-BL                  0.0         0.0      25.81          18.73       32.11   \n",
      "ECON                    0.0         0.0       7.98           7.22        6.85   \n",
      "SR-BL                   0.0         0.0       19.4          15.57       28.11   \n",
      "AUCTION YEAR           2011        2009       2011           2011        2011   \n",
      "BASE PRICE           100000       50000     100000         200000      200000   \n",
      "SOLD PRICE           800000       50000     500000         700000      950000   \n",
      "\n",
      "                       9    ...          120             121        122  \\\n",
      "Sl.NO.                  10  ...          121             122        123   \n",
      "PLAYER NAME    Boucher, MV  ...  Vettori, DL  Vinay Kumar, R  Warne, SK   \n",
      "AGE                      2  ...            2               2          3   \n",
      "COUNTRY                 SA  ...           NZ             IND        AUS   \n",
      "TEAM                  RCB+  ...          DD+            RCB+         RR   \n",
      "PLAYING ROLE     W. Keeper  ...   Allrounder          Bowler     Bowler   \n",
      "T-RUNS                5515  ...         4486              11       3154   \n",
      "T-WKTS                   1  ...          359               1        708   \n",
      "ODI-RUNS-S            4686  ...         2105              43       1018   \n",
      "ODI-SR-B             84.76  ...        81.93           43.87      72.04   \n",
      "ODI-WKTS                 0  ...          282              28        293   \n",
      "ODI-SR-BL              0.0  ...         45.7            35.3       36.3   \n",
      "CAPTAINCY EXP            1  ...            1               0          1   \n",
      "RUNS-S                 394  ...          121             217        198   \n",
      "HS                      50  ...           29              25         34   \n",
      "AVE                  28.14  ...        15.13            9.43        9.9   \n",
      "SR-B                127.51  ...       107.08          104.83      92.52   \n",
      "SIXERS                  13  ...            2               5          6   \n",
      "RUNS-C                   0  ...          878            1664       1447   \n",
      "WKTS                     0  ...           28              61         57   \n",
      "AVE-BL                 0.0  ...        31.36           27.28      25.39   \n",
      "ECON                   0.0  ...         6.81            8.24       7.27   \n",
      "SR-BL                  0.0  ...        27.75           19.87      20.95   \n",
      "AUCTION YEAR          2008  ...         2008            2011       2008   \n",
      "BASE PRICE          200000  ...       250000          100000     450000   \n",
      "SOLD PRICE          450000  ...       625000          475000     450000   \n",
      "\n",
      "                      123        124        125          126           127  \\\n",
      "Sl.NO.                124        125        126          127           128   \n",
      "PLAYER NAME    Warner, DA  White, CL  Yadav, AS  Younis Khan  Yuvraj Singh   \n",
      "AGE                     1          2          2            2             2   \n",
      "COUNTRY               AUS        AUS        IND          PAK           IND   \n",
      "TEAM                   DD       RCB+         DC           RR         KXIP+   \n",
      "PLAYING ROLE      Batsman    Batsman    Batsman      Batsman       Batsman   \n",
      "T-RUNS                483        146          0         6398          1775   \n",
      "T-WKTS                  2          5          0            7             9   \n",
      "ODI-RUNS-S            876       2037          0         6814          8051   \n",
      "ODI-SR-B            85.79      80.48        0.0        75.78         87.58   \n",
      "ODI-WKTS                0         12          0            3           109   \n",
      "ODI-SR-BL             0.0       27.5        0.0         86.6          44.3   \n",
      "CAPTAINCY EXP           0          1          0            1             1   \n",
      "RUNS-S               1025        745         49            3          1237   \n",
      "HS                    109         78         16            3            66   \n",
      "AVE                  27.7      31.04        9.8          3.0         26.32   \n",
      "SR-B               135.76     132.09     125.64        42.85        131.88   \n",
      "SIXERS                 44         29          2            0            67   \n",
      "RUNS-C                  0         70          0            0           569   \n",
      "WKTS                    0          0          0            0            23   \n",
      "AVE-BL                0.0        0.0        0.0          0.0         24.74   \n",
      "ECON                  0.0       14.0        0.0          0.0          7.02   \n",
      "SR-BL                 0.0        0.0        0.0          0.0         21.13   \n",
      "AUCTION YEAR         2011       2008       2010         2008          2011   \n",
      "BASE PRICE         200000     100000      50000       225000        400000   \n",
      "SOLD PRICE         750000     500000     750000       225000       1800000   \n",
      "\n",
      "                       128         129  \n",
      "Sl.NO.                 129         130  \n",
      "PLAYER NAME    Zaheer Khan  Zoysa, DNT  \n",
      "AGE                      2           2  \n",
      "COUNTRY                IND          SL  \n",
      "TEAM                   MI+          DC  \n",
      "PLAYING ROLE        Bowler      Bowler  \n",
      "T-RUNS                1114         288  \n",
      "T-WKTS                 288          64  \n",
      "ODI-RUNS-S             790         343  \n",
      "ODI-SR-B             73.55       95.81  \n",
      "ODI-WKTS               278         108  \n",
      "ODI-SR-BL             35.4        39.4  \n",
      "CAPTAINCY EXP            0           0  \n",
      "RUNS-S                  99          11  \n",
      "HS                      23          10  \n",
      "AVE                    9.9        11.0  \n",
      "SR-B                 91.67      122.22  \n",
      "SIXERS                   1           0  \n",
      "RUNS-C                1783          99  \n",
      "WKTS                    65           2  \n",
      "AVE-BL               27.43        49.5  \n",
      "ECON                  7.75         9.0  \n",
      "SR-BL                21.26        33.0  \n",
      "AUCTION YEAR          2008        2008  \n",
      "BASE PRICE          200000      100000  \n",
      "SOLD PRICE          450000      110000  \n",
      "\n",
      "[26 rows x 130 columns]\n",
      "\n",
      "First 5 rows of the Transposed DataFrame:\n",
      "                     0             1            2          3             4    \\\n",
      "Sl.NO.                 1             2            3          4             5   \n",
      "PLAYER NAME  Abdulla, YA  Abdur Razzak  Agarkar, AB  Ashwin, R  Badrinath, S   \n",
      "AGE                    2             2            2          1             2   \n",
      "COUNTRY               SA           BAN          IND        IND           IND   \n",
      "TEAM                KXIP           RCB          KKR        CSK           CSK   \n",
      "\n",
      "                    5          6              7         8            9    ...  \\\n",
      "Sl.NO.                6          7              8         9           10  ...   \n",
      "PLAYER NAME  Bailey, GJ  Balaji, L  Bollinger, DE  Botha, J  Boucher, MV  ...   \n",
      "AGE                   2          2              2         2            2  ...   \n",
      "COUNTRY             AUS        IND            AUS        SA           SA  ...   \n",
      "TEAM                CSK       CSK+            CSK        RR         RCB+  ...   \n",
      "\n",
      "                     120             121        122         123        124  \\\n",
      "Sl.NO.               121             122        123         124        125   \n",
      "PLAYER NAME  Vettori, DL  Vinay Kumar, R  Warne, SK  Warner, DA  White, CL   \n",
      "AGE                    2               2          3           1          2   \n",
      "COUNTRY               NZ             IND        AUS         AUS        AUS   \n",
      "TEAM                 DD+            RCB+         RR          DD       RCB+   \n",
      "\n",
      "                   125          126           127          128         129  \n",
      "Sl.NO.             126          127           128          129         130  \n",
      "PLAYER NAME  Yadav, AS  Younis Khan  Yuvraj Singh  Zaheer Khan  Zoysa, DNT  \n",
      "AGE                  2            2             2            2           2  \n",
      "COUNTRY            IND          PAK           IND          IND          SL  \n",
      "TEAM                DC           RR         KXIP+          MI+          DC  \n",
      "\n",
      "[5 rows x 130 columns]\n",
      "\n",
      "First 3 columns of the original DataFrame:\n",
      "     Sl.NO.   PLAYER NAME  AGE\n",
      "0         1   Abdulla, YA    2\n",
      "1         2  Abdur Razzak    2\n",
      "2         3   Agarkar, AB    2\n",
      "3         4     Ashwin, R    1\n",
      "4         5  Badrinath, S    2\n",
      "..      ...           ...  ...\n",
      "125     126     Yadav, AS    2\n",
      "126     127   Younis Khan    2\n",
      "127     128  Yuvraj Singh    2\n",
      "128     129   Zaheer Khan    2\n",
      "129     130    Zoysa, DNT    2\n",
      "\n",
      "[130 rows x 3 columns]\n",
      "\n",
      "Rows 2 to 5 and specific columns:\n",
      "  TEAM   PLAYER NAME\n",
      "2  KKR   Agarkar, AB\n",
      "3  CSK     Ashwin, R\n",
      "4  CSK  Badrinath, S\n",
      "5  CSK    Bailey, GJ\n"
     ]
    }
   ],
   "source": [
    "print(\"\\nTransposed DataFrame:\")\n",
    "print(df.T)\n",
    "\n",
    "print(\"\\nFirst 5 rows of the Transposed DataFrame:\")\n",
    "print(df.T.head())\n",
    "\n",
    "print(\"\\nFirst 3 columns of the original DataFrame:\")\n",
    "print(df.iloc[:, :3])\n",
    "\n",
    "print(\"\\nRows 2 to 5 and specific columns:\")\n",
    "print(df.loc[2:5, ['TEAM', 'PLAYER NAME']])\n"
   ]
  },
  {
   "cell_type": "markdown",
   "id": "0fbaca36",
   "metadata": {},
   "source": [
    "C)"
   ]
  },
  {
   "cell_type": "code",
   "execution_count": 10,
   "id": "9e10d4e2",
   "metadata": {},
   "outputs": [
    {
     "name": "stdout",
     "output_type": "stream",
     "text": [
      "Shape of the DataFrame: (130, 26)\n",
      "Info about DataFrame:\n",
      "<class 'pandas.core.frame.DataFrame'>\n",
      "RangeIndex: 130 entries, 0 to 129\n",
      "Data columns (total 26 columns):\n",
      " #   Column         Non-Null Count  Dtype  \n",
      "---  ------         --------------  -----  \n",
      " 0   Sl.NO.         130 non-null    int64  \n",
      " 1   PLAYER NAME    130 non-null    object \n",
      " 2   AGE            130 non-null    int64  \n",
      " 3   COUNTRY        130 non-null    object \n",
      " 4   TEAM           130 non-null    object \n",
      " 5   PLAYING ROLE   130 non-null    object \n",
      " 6   T-RUNS         130 non-null    int64  \n",
      " 7   T-WKTS         130 non-null    int64  \n",
      " 8   ODI-RUNS-S     130 non-null    int64  \n",
      " 9   ODI-SR-B       130 non-null    float64\n",
      " 10  ODI-WKTS       130 non-null    int64  \n",
      " 11  ODI-SR-BL      130 non-null    float64\n",
      " 12  CAPTAINCY EXP  130 non-null    int64  \n",
      " 13  RUNS-S         130 non-null    int64  \n",
      " 14  HS             130 non-null    int64  \n",
      " 15  AVE            130 non-null    float64\n",
      " 16  SR-B           130 non-null    float64\n",
      " 17  SIXERS         130 non-null    int64  \n",
      " 18  RUNS-C         130 non-null    int64  \n",
      " 19  WKTS           130 non-null    int64  \n",
      " 20  AVE-BL         130 non-null    float64\n",
      " 21  ECON           130 non-null    float64\n",
      " 22  SR-BL          130 non-null    float64\n",
      " 23  AUCTION YEAR   130 non-null    int64  \n",
      " 24  BASE PRICE     130 non-null    int64  \n",
      " 25  SOLD PRICE     130 non-null    int64  \n",
      "dtypes: float64(7), int64(15), object(4)\n",
      "memory usage: 26.5+ KB\n"
     ]
    }
   ],
   "source": [
    "print(\"Shape of the DataFrame:\", df.shape)\n",
    "\n",
    "print(\"Info about DataFrame:\")\n",
    "df.info()"
   ]
  },
  {
   "cell_type": "markdown",
   "id": "874900fa",
   "metadata": {},
   "source": [
    "D)"
   ]
  },
  {
   "cell_type": "code",
   "execution_count": 11,
   "id": "4d8b0921",
   "metadata": {},
   "outputs": [
    {
     "name": "stdout",
     "output_type": "stream",
     "text": [
      "Team-wise Player Counts:\n",
      "CSK      14\n",
      "RCB+     12\n",
      "KKR+     12\n",
      "DD+      10\n",
      "DC+      10\n",
      "RR+       9\n",
      "RCB       9\n",
      "DC        7\n",
      "KXIP+     7\n",
      "MI        6\n",
      "DD        6\n",
      "MI+       6\n",
      "RR        6\n",
      "CSK+      5\n",
      "KKR       5\n",
      "KXIP      5\n",
      "KXI+      1\n",
      "Name: TEAM, dtype: int64\n",
      "\n",
      "Team-wise Player Percentages:\n",
      "CSK      10.769231\n",
      "RCB+      9.230769\n",
      "KKR+      9.230769\n",
      "DD+       7.692308\n",
      "DC+       7.692308\n",
      "RR+       6.923077\n",
      "RCB       6.923077\n",
      "DC        5.384615\n",
      "KXIP+     5.384615\n",
      "MI        4.615385\n",
      "DD        4.615385\n",
      "MI+       4.615385\n",
      "RR        4.615385\n",
      "CSK+      3.846154\n",
      "KKR       3.846154\n",
      "KXIP      3.846154\n",
      "KXI+      0.769231\n",
      "Name: TEAM, dtype: float64\n"
     ]
    }
   ],
   "source": [
    "team_counts = df['TEAM'].value_counts()\n",
    "team_percentages = df['TEAM'].value_counts(normalize=True) * 100\n",
    "\n",
    "print(\"Team-wise Player Counts:\")\n",
    "print(team_counts)\n",
    "print(\"\\nTeam-wise Player Percentages:\")\n",
    "print(team_percentages)"
   ]
  },
  {
   "cell_type": "markdown",
   "id": "9bd343f5",
   "metadata": {},
   "source": [
    "E)"
   ]
  },
  {
   "cell_type": "code",
   "execution_count": 12,
   "id": "3268ea81",
   "metadata": {},
   "outputs": [
    {
     "name": "stdout",
     "output_type": "stream",
     "text": [
      "TEAM-wise COUNTRY-wise Count of Players:\n",
      "COUNTRY  AUS  BAN  ENG  IND  NZ  PAK  SA  SL  WI  ZIM\n",
      "TEAM                                                 \n",
      "CSK        4    0    1    6   1    0   2   0   0    0\n",
      "CSK+       0    0    0    3   1    0   0   1   0    0\n",
      "DC         0    0    0    1   0    1   1   3   1    0\n",
      "DC+        3    0    0    5   1    0   0   0   1    0\n",
      "DD         2    0    0    1   0    2   0   1   0    0\n",
      "DD+        2    0    0    5   1    0   1   1   0    0\n",
      "KKR        1    0    0    1   0    2   0   0   0    1\n",
      "KKR+       3    0    0    5   1    0   1   1   1    0\n",
      "KXI+       1    0    0    0   0    0   0   0   0    0\n",
      "KXIP       2    0    0    1   0    0   1   0   1    0\n",
      "KXIP+      1    0    0    4   0    0   0   2   0    0\n",
      "MI         0    0    0    2   0    0   1   3   0    0\n",
      "MI+        0    0    0    4   0    0   1   0   1    0\n",
      "RCB        1    1    0    4   0    1   1   0   1    0\n",
      "RCB+       1    0    1    5   2    0   3   0   0    0\n",
      "RR         1    0    0    0   0    3   2   0   0    0\n",
      "RR+        0    0    1    6   0    0   2   0   0    0\n",
      "\n",
      "COUNTRY-wise PLAYING ROLE-wise Count of Players:\n",
      "PLAYING ROLE  Allrounder  Batsman  Bowler  W. Keeper\n",
      "COUNTRY                                             \n",
      "AUS                    6        9       6          1\n",
      "BAN                    0        0       1          0\n",
      "ENG                    2        1       0          0\n",
      "IND                    7       18      23          5\n",
      "NZ                     4        2       0          1\n",
      "PAK                    2        2       4          1\n",
      "SA                     7        3       4          2\n",
      "SL                     4        2       5          1\n",
      "WI                     3        2       1          0\n",
      "ZIM                    0        0       0          1\n"
     ]
    }
   ],
   "source": [
    "team_country_ct = pd.crosstab(df['TEAM'], df['COUNTRY'])\n",
    "country_role_ct = pd.crosstab(df['COUNTRY'], df['PLAYING ROLE'])\n",
    "\n",
    "print(\"TEAM-wise COUNTRY-wise Count of Players:\")\n",
    "print(team_country_ct)\n",
    "print(\"\\nCOUNTRY-wise PLAYING ROLE-wise Count of Players:\")\n",
    "print(country_role_ct)"
   ]
  },
  {
   "cell_type": "markdown",
   "id": "5165cde6",
   "metadata": {},
   "source": [
    "F)"
   ]
  },
  {
   "cell_type": "code",
   "execution_count": 13,
   "id": "6b7cbb09",
   "metadata": {},
   "outputs": [
    {
     "name": "stdout",
     "output_type": "stream",
     "text": [
      "Top 10 Players by SOLD PRICE:\n",
      "     Sl.NO.    PLAYER NAME  AGE COUNTRY   TEAM PLAYING ROLE  T-RUNS  T-WKTS  \\\n",
      "93       94      Sehwag, V    2     IND     DD      Batsman    8178      40   \n",
      "127     128   Yuvraj Singh    2     IND  KXIP+      Batsman    1775       9   \n",
      "50       51       Kohli, V    1     IND    RCB      Batsman     491       0   \n",
      "111     112  Tendulkar, SR    3     IND     MI      Batsman   15470      45   \n",
      "113     114     Tiwary, SS    1     IND    MI+      Batsman       0       0   \n",
      "83       84  Pietersen, KP    2     ENG   RCB+      Batsman    6654       5   \n",
      "23       24    Flintoff, A    2     ENG    CSK   Allrounder    3845     226   \n",
      "15       16      Dhoni, MS    2     IND    CSK    W. Keeper    3509       0   \n",
      "108     109     Symonds, A    3     AUS    DC+   Allrounder    1462      24   \n",
      "110     111   Taylor, LRPL    2      NZ   RCB+      Batsman    2742       2   \n",
      "\n",
      "     ODI-RUNS-S  ODI-SR-B  ...    SR-B  SIXERS  RUNS-C  WKTS  AVE-BL   ECON  \\\n",
      "93         8090    104.68  ...  167.32      79     226     6   37.67  10.56   \n",
      "127        8051     87.58  ...  131.88      67     569    23   24.74   7.02   \n",
      "50         3590     86.31  ...  119.29      49     345     4   86.25   8.84   \n",
      "111       18426     86.23  ...  119.22      24      58     0    0.00   9.67   \n",
      "113          49     87.50  ...  119.60      32       0     0    0.00   0.00   \n",
      "83         4184     86.76  ...  141.20      30     215     7   30.71   7.41   \n",
      "23         3394     88.82  ...  116.98       2     105     2   52.50   9.55   \n",
      "15         6773     88.19  ...  136.45      64       0     0    0.00   0.00   \n",
      "108        5088     92.44  ...  129.87      41     674    20   33.70   7.70   \n",
      "110        3185     81.77  ...  130.28      45      24     0    0.00  12.00   \n",
      "\n",
      "     SR-BL  AUCTION YEAR  BASE PRICE  SOLD PRICE  \n",
      "93   21.67          2011      400000     1800000  \n",
      "127  21.13          2011      400000     1800000  \n",
      "50   58.50          2011      150000     1800000  \n",
      "111   0.00          2011      400000     1800000  \n",
      "113   0.00          2011      100000     1600000  \n",
      "83   24.86          2009     1350000     1550000  \n",
      "23   33.00          2009      950000     1550000  \n",
      "15    0.00          2008      400000     1500000  \n",
      "108  26.35          2008      250000     1350000  \n",
      "110   0.00          2008      400000     1000000  \n",
      "\n",
      "[10 rows x 26 columns]\n"
     ]
    }
   ],
   "source": [
    "top_10_players = df.sort_values(by='SOLD PRICE', ascending=False).head(10)\n",
    "\n",
    "print(\"Top 10 Players by SOLD PRICE:\")\n",
    "print(top_10_players)"
   ]
  },
  {
   "cell_type": "markdown",
   "id": "cf5182c3",
   "metadata": {},
   "source": [
    "G)"
   ]
  },
  {
   "cell_type": "code",
   "execution_count": 14,
   "id": "664898a0",
   "metadata": {},
   "outputs": [
    {
     "name": "stdout",
     "output_type": "stream",
     "text": [
      "COUNTRY-wise SOLD PRICE Statistics:\n",
      "         Average SOLD PRICE  Maximum SOLD PRICE  Minimum SOLD PRICE\n",
      "COUNTRY                                                            \n",
      "AUS            4.340909e+05             1350000               20000\n",
      "BAN            5.000000e+04               50000               50000\n",
      "ENG            1.066667e+06             1550000              100000\n",
      "IND            6.523396e+05             1800000               24000\n",
      "NZ             5.264286e+05             1000000              160000\n",
      "PAK            3.305556e+05              675000              100000\n",
      "SA             4.275000e+05              950000               50000\n",
      "SL             4.237500e+05              975000              100000\n",
      "WI             2.791667e+05              800000              100000\n",
      "ZIM            1.250000e+05              125000              125000\n"
     ]
    }
   ],
   "source": [
    "country_avg_price = df.groupby('COUNTRY')['SOLD PRICE'].mean()\n",
    "country_max_price = df.groupby('COUNTRY')['SOLD PRICE'].max()\n",
    "country_min_price = df.groupby('COUNTRY')['SOLD PRICE'].min()\n",
    "\n",
    "country_stats = pd.DataFrame({\n",
    "    'Average SOLD PRICE': country_avg_price,\n",
    "    'Maximum SOLD PRICE': country_max_price,\n",
    "    'Minimum SOLD PRICE': country_min_price\n",
    "})\n",
    "\n",
    "print(\"COUNTRY-wise SOLD PRICE Statistics:\")\n",
    "print(country_stats)"
   ]
  },
  {
   "cell_type": "markdown",
   "id": "e7e4fcce",
   "metadata": {},
   "source": [
    "H)"
   ]
  },
  {
   "cell_type": "code",
   "execution_count": 15,
   "id": "fcef8892",
   "metadata": {},
   "outputs": [
    {
     "name": "stdout",
     "output_type": "stream",
     "text": [
      "PLAYING ROLE-wise SOLD PRICE Statistics:\n",
      "              Average SOLD PRICE  Maximum SOLD PRICE  Minimum SOLD PRICE\n",
      "PLAYING ROLE                                                            \n",
      "Allrounder         519571.428571             1550000               20000\n",
      "Batsman            647435.897436             1800000               50000\n",
      "Bowler             419977.272727              950000               24000\n",
      "W. Keeper          487083.333333             1500000              100000\n"
     ]
    }
   ],
   "source": [
    "role_avg_price = df.groupby('PLAYING ROLE')['SOLD PRICE'].mean()\n",
    "role_max_price = df.groupby('PLAYING ROLE')['SOLD PRICE'].max()\n",
    "role_min_price = df.groupby('PLAYING ROLE')['SOLD PRICE'].min()\n",
    "\n",
    "role_stats = pd.DataFrame({\n",
    "    'Average SOLD PRICE': role_avg_price,\n",
    "    'Maximum SOLD PRICE': role_max_price,\n",
    "    'Minimum SOLD PRICE': role_min_price\n",
    "})\n",
    "\n",
    "print(\"PLAYING ROLE-wise SOLD PRICE Statistics:\")\n",
    "print(role_stats)"
   ]
  },
  {
   "cell_type": "markdown",
   "id": "838b0761",
   "metadata": {},
   "source": [
    "I)"
   ]
  },
  {
   "cell_type": "code",
   "execution_count": 16,
   "id": "27b5bf25",
   "metadata": {},
   "outputs": [
    {
     "name": "stdout",
     "output_type": "stream",
     "text": [
      "PLAYING ROLE-wise Average and Maximum SOLD PRICE:\n",
      "  PLAYING ROLE  Average SOLD PRICE  Maximum SOLD PRICE\n",
      "0   Allrounder       519571.428571             1550000\n",
      "1      Batsman       647435.897436             1800000\n",
      "2       Bowler       419977.272727              950000\n",
      "3    W. Keeper       487083.333333             1500000\n"
     ]
    }
   ],
   "source": [
    "role_avg_df = role_avg_price.reset_index()\n",
    "role_avg_df.columns = ['PLAYING ROLE', 'Average SOLD PRICE']\n",
    "role_max_df = role_max_price.reset_index()\n",
    "role_max_df.columns = ['PLAYING ROLE', 'Maximum SOLD PRICE']\n",
    "merged_role_df = pd.merge(role_avg_df, role_max_df, on='PLAYING ROLE')\n",
    "\n",
    "print(\"PLAYING ROLE-wise Average and Maximum SOLD PRICE:\")\n",
    "print(merged_role_df)"
   ]
  },
  {
   "cell_type": "markdown",
   "id": "1880c8d7",
   "metadata": {},
   "source": [
    "J)"
   ]
  },
  {
   "cell_type": "code",
   "execution_count": 18,
   "id": "c6ac6df0",
   "metadata": {},
   "outputs": [
    {
     "name": "stdout",
     "output_type": "stream",
     "text": [
      "Players who have lifted more than 70 Sixers:\n",
      " 26        Gayle, CH\n",
      "28    Gilchrist, AC\n",
      "82       Pathan, YK\n",
      "88        Raina, SK\n",
      "93        Sehwag, V\n",
      "97       Sharma, RG\n",
      "Name: PLAYER NAME, dtype: object\n"
     ]
    }
   ],
   "source": [
    "players_with_70_sixers = df[df['SIXERS'] > 70]['PLAYER NAME']\n",
    "print(\"Players who have lifted more than 70 Sixers:\\n\", players_with_70_sixers)"
   ]
  },
  {
   "cell_type": "code",
   "execution_count": null,
   "id": "c9d8b0c3",
   "metadata": {},
   "outputs": [],
   "source": []
  }
 ],
 "metadata": {
  "kernelspec": {
   "display_name": "Python 3 (ipykernel)",
   "language": "python",
   "name": "python3"
  },
  "language_info": {
   "codemirror_mode": {
    "name": "ipython",
    "version": 3
   },
   "file_extension": ".py",
   "mimetype": "text/x-python",
   "name": "python",
   "nbconvert_exporter": "python",
   "pygments_lexer": "ipython3",
   "version": "3.9.12"
  }
 },
 "nbformat": 4,
 "nbformat_minor": 5
}
