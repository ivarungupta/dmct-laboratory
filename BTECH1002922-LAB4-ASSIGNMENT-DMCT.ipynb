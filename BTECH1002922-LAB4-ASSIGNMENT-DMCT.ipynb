{
 "cells": [
  {
   "cell_type": "markdown",
   "id": "0b9148b9",
   "metadata": {},
   "source": [
    "# BTECH1002922-LAB4-ASSIGNMENT-DMCT\n"
   ]
  },
  {
   "cell_type": "markdown",
   "id": "9925403a",
   "metadata": {},
   "source": [
    "### QUESTION 1 : "
   ]
  },
  {
   "cell_type": "markdown",
   "id": "23dc21b9",
   "metadata": {},
   "source": [
    "[Handling Missing Values]Read Diabetes_null . Count their Missing values. replace Missing\n",
    "values with 0 and rename the file as Diabetes_zero.csv."
   ]
  },
  {
   "cell_type": "code",
   "execution_count": 11,
   "id": "288a3ddd",
   "metadata": {},
   "outputs": [
    {
     "name": "stdout",
     "output_type": "stream",
     "text": [
      "     Pregnancies  Glucose  BloodPressure  SkinThickness  Insulin   BMI  \\\n",
      "0              6    148.0           72.0           35.0      NaN  33.6   \n",
      "1              1     85.0           66.0           29.0      NaN  26.6   \n",
      "2              8    183.0           64.0            NaN      NaN  23.3   \n",
      "3              1     89.0           66.0           23.0     94.0  28.1   \n",
      "4              0    137.0            4.0           35.0    168.0  43.1   \n",
      "..           ...      ...            ...            ...      ...   ...   \n",
      "763           10     11.0           76.0           48.0     18.0  32.9   \n",
      "764            2    122.0            7.0           27.0      NaN  36.8   \n",
      "765            5    121.0           72.0           23.0    112.0  26.2   \n",
      "766            1    126.0            6.0            NaN      NaN   3.1   \n",
      "767            1     93.0            7.0           31.0      NaN   3.4   \n",
      "\n",
      "     DiabetesPedigreeFunction  Age  Outcome  \n",
      "0                       0.627    5        1  \n",
      "1                       0.351   31        0  \n",
      "2                       0.672   32        1  \n",
      "3                       0.167   21        0  \n",
      "4                       2.288   33        1  \n",
      "..                        ...  ...      ...  \n",
      "763                     0.171   63        0  \n",
      "764                     0.340   27        0  \n",
      "765                     0.245    3        0  \n",
      "766                     0.349   47        1  \n",
      "767                     0.315   23        0  \n",
      "\n",
      "[768 rows x 9 columns]\n"
     ]
    }
   ],
   "source": [
    "import pandas as pd\n",
    "df = pd.read_csv('C://Users//BIT//Desktop//diabetes_null(in).csv')\n",
    "df.head();\n",
    "print(df);"
   ]
  },
  {
   "cell_type": "code",
   "execution_count": 13,
   "id": "022a8323",
   "metadata": {},
   "outputs": [
    {
     "name": "stdout",
     "output_type": "stream",
     "text": [
      "Pregnancies                   0\n",
      "Glucose                       5\n",
      "BloodPressure                35\n",
      "SkinThickness               227\n",
      "Insulin                     374\n",
      "BMI                          11\n",
      "DiabetesPedigreeFunction      0\n",
      "Age                           0\n",
      "Outcome                       0\n",
      "dtype: int64\n"
     ]
    }
   ],
   "source": [
    "miss = df.isnull().sum();\n",
    "print(miss);"
   ]
  },
  {
   "cell_type": "code",
   "execution_count": 15,
   "id": "5d4362fc",
   "metadata": {},
   "outputs": [],
   "source": [
    "df.fillna(0, inplace = True)"
   ]
  },
  {
   "cell_type": "code",
   "execution_count": null,
   "id": "0db5314b",
   "metadata": {},
   "outputs": [],
   "source": [
    "import os \n",
    "\n",
    "old_name = r'C:\\Users\\BIT\\Desktop\\diabetes_null(in).csv'\n",
    "new_name = r'C:\\Users\\BIT\\Desktop\\Diabetes_zero.csv'\n",
    "\n",
    "os.rename(old_name, new_name)"
   ]
  },
  {
   "cell_type": "markdown",
   "id": "a3bb9648",
   "metadata": {},
   "source": [
    "### QUESTION 2 : "
   ]
  },
  {
   "cell_type": "code",
   "execution_count": 23,
   "id": "9c999519",
   "metadata": {},
   "outputs": [
    {
     "name": "stdout",
     "output_type": "stream",
     "text": [
      "Scaled data saved to C:\\Users\\BIT\\Desktop\\scaled_data.csv\n",
      "Normalized data saved to C:\\Users\\BIT\\Desktop\\normalized_data.csv\n"
     ]
    }
   ],
   "source": [
    "import pandas as pd\n",
    "import numpy as np\n",
    "\n",
    "file_path = r'C:\\Users\\BIT\\Desktop\\Diabetes_zero.csv'\n",
    "df = pd.read_csv(file_path)\n",
    "\n",
    "numeric_cols = df.select_dtypes(include=['number']).columns\n",
    "\n",
    "df_scaled = df.copy()\n",
    "for col in numeric_cols:\n",
    "    min_val = df_scaled[col].min()\n",
    "    max_val = df_scaled[col].max()\n",
    "    df_scaled[col] = (df_scaled[col] - min_val) / (max_val - min_val)\n",
    "\n",
    "scaled_file_path = r'C:\\Users\\BIT\\Desktop\\scaled_data.csv'\n",
    "df_scaled.to_csv(scaled_file_path, index=False)\n",
    "print(f\"Scaled data saved to {scaled_file_path}\")\n",
    "\n",
    "df_normalized = df.copy()\n",
    "for col in numeric_cols:\n",
    "    mean_val = df_normalized[col].mean()\n",
    "    std_dev = df_normalized[col].std()\n",
    "    df_normalized[col] = (df_normalized[col] - mean_val) / std_dev\n",
    "\n",
    "normalized_file_path = r'C:\\Users\\BIT\\Desktop\\normalized_data.csv'\n",
    "df_normalized.to_csv(normalized_file_path, index=False)\n",
    "print(f\"Normalized data saved to {normalized_file_path}\")\n"
   ]
  },
  {
   "cell_type": "markdown",
   "id": "07bf0b8f",
   "metadata": {},
   "source": [
    "### QUESTION 3 : "
   ]
  },
  {
   "cell_type": "code",
   "execution_count": 22,
   "id": "9a9656a3",
   "metadata": {},
   "outputs": [
    {
     "name": "stdout",
     "output_type": "stream",
     "text": [
      "     Glucose  BloodPressure\n",
      "0      148.0           72.0\n",
      "1       85.0           66.0\n",
      "2      183.0           64.0\n",
      "3       89.0           66.0\n",
      "4      137.0            4.0\n",
      "..       ...            ...\n",
      "763     11.0           76.0\n",
      "764    122.0            7.0\n",
      "765    121.0           72.0\n",
      "766    126.0            6.0\n",
      "767     93.0            7.0\n",
      "\n",
      "[768 rows x 2 columns]\n"
     ]
    }
   ],
   "source": [
    "file_path = r'C:\\Users\\BIT\\Desktop\\Diabetes_zero.csv'\n",
    "df = pd.read_csv(file_path)\n",
    "df_by_name = pd.read_csv(file_path, usecols=['Glucose', 'BloodPressure'])\n",
    "print(df_by_name.head(1000))"
   ]
  },
  {
   "cell_type": "code",
   "execution_count": null,
   "id": "639078f8",
   "metadata": {},
   "outputs": [],
   "source": [
    "import numpy as np\n",
    "df = pd.read_csv(\"C:\\\\Users\\\\BIT\\\\Downloads\\\\diabetes_zero.csv\")\n",
    "glucose_bp_df = df[['Glucose', 'BloodPressure']]\n",
    "bin_size = 5\n",
    "def binning_by_mean(data, bin_size):\n",
    "    bin_means = data.rolling(bin_size).mean().dropna()\n",
    "    return bin_means\n",
    "glucose_binned_mean = binning_by_mean(glucose_bp_df['Glucose'], bin_size)\n",
    "bp_binned_mean = binning_by_mean(glucose_bp_df['BloodPressure'], bin_size)\n",
    "def binning_by_median(data, bin_size):\n",
    "    bin_medians = data.rolling(bin_size).median().dropna()\n",
    "    return bin_medians\n",
    "glucose_binned_median = binning_by_median(glucose_bp_df['Glucose'], bin_size)\n",
    "bp_binned_median = binning_by_median(glucose_bp_df['BloodPressure'], bin_size)\n",
    "def binning_by_boundaries(data, bin_size):\n",
    "    boundaries = np.linspace(data.min(), data.max(), bin_size + 1)\n",
    "    binned_data = pd.cut(data, bins=boundaries, include_lowest=True)\n",
    "    return binned_data\n",
    "glucose_binned_boundaries = binning_by_boundaries(glucose_bp_df['Glucose'], bin_size)\n",
    "bp_binned_boundaries = binning_by_boundaries(glucose_bp_df['BloodPressure'], bin_size)\n",
    "df['glucose_binned_mean'] = glucose_binned_mean\n",
    "df['bp_binned_mean'] = bp_binned_mean\n",
    "df['glucose_binned_median'] = glucose_binned_median\n",
    "df['bp_binned_median'] = bp_binned_median\n",
    "df['glucose_binned_boundaries'] = glucose_binned_boundaries \n",
    "df['bp_binned_boundaries'] = bp_binned_boundaries\n",
    "print(df)"
   ]
  },
  {
   "cell_type": "code",
   "execution_count": null,
   "id": "45ec663b",
   "metadata": {},
   "outputs": [],
   "source": []
  },
  {
   "cell_type": "code",
   "execution_count": null,
   "id": "c4868dda",
   "metadata": {},
   "outputs": [],
   "source": []
  },
  {
   "cell_type": "markdown",
   "id": "03258a6c",
   "metadata": {},
   "source": [
    "### QUESTION 4"
   ]
  },
  {
   "cell_type": "code",
   "execution_count": null,
   "id": "a91c4f62",
   "metadata": {},
   "outputs": [],
   "source": []
  },
  {
   "cell_type": "code",
   "execution_count": null,
   "id": "14fd0b6f",
   "metadata": {},
   "outputs": [],
   "source": []
  },
  {
   "cell_type": "code",
   "execution_count": null,
   "id": "eec25e66",
   "metadata": {},
   "outputs": [],
   "source": [
    "def equal_width_binning(data, num_bins):\n",
    "    bin_edges = np.linspace(data.min(), data.max(), num_bins + 1)\n",
    "    binned_data = pd.cut(data, bins=bin_edges, include_lowest=True)\n",
    "    return binned_data\n",
    "num_bins = len(glucose_bp_df) // bin_size \n",
    "glucose_equal_width = equal_width_binning(glucose_bp_df['Glucose'], num_bins)\n",
    "bp_equal_width = equal_width_binning(glucose_bp_df['BloodPressure'], num_bins)\n",
    "print(glucose_equal_width, bp_equal_width)"
   ]
  },
  {
   "cell_type": "markdown",
   "id": "e37df7e0",
   "metadata": {},
   "source": [
    "### QUESTION 5 : "
   ]
  },
  {
   "cell_type": "code",
   "execution_count": null,
   "id": "8a7a9034",
   "metadata": {},
   "outputs": [],
   "source": [
    "import seaborn as sns\n",
    "import matplotlib.pyplot as plt\n",
    "from sklearn.decomposition import PCA\n",
    "import pandas as pd\n",
    " \n",
    "df = pd.read_csv(\"C:\\\\Users\\\\BIT\\\\Downloads\\\\diabetes_zero.csv\")\n",
    " \n",
    "numeric_cols = df.select_dtypes(include=['number']).columns\n",
    " \n",
    "pca = PCA(n_components=3)\n",
    "principal_components = pca.fit_transform(df[numeric_cols])\n",
    " \n",
    "pc_df = pd.DataFrame(data=principal_components, columns=[f'PC{i+1}' for i in range(3)])\n",
    " \n",
    "corr_matrix = pc_df.corr()\n",
    " \n",
    "plt.figure(figsize=(12, 10))\n",
    "sns.heatmap(corr_matrix, annot=True, cmap='viridis', fmt='.2f', linewidths=0.5)\n",
    "plt.title('Correlation Heatmap of Principal Components', fontsize=16)\n",
    "plt.show()\n",
    "\n",
    "has context menu"
   ]
  },
  {
   "cell_type": "code",
   "execution_count": null,
   "id": "599c5067",
   "metadata": {},
   "outputs": [],
   "source": []
  }
 ],
 "metadata": {
  "kernelspec": {
   "display_name": "Python 3 (ipykernel)",
   "language": "python",
   "name": "python3"
  },
  "language_info": {
   "codemirror_mode": {
    "name": "ipython",
    "version": 3
   },
   "file_extension": ".py",
   "mimetype": "text/x-python",
   "name": "python",
   "nbconvert_exporter": "python",
   "pygments_lexer": "ipython3",
   "version": "3.9.13"
  }
 },
 "nbformat": 4,
 "nbformat_minor": 5
}
